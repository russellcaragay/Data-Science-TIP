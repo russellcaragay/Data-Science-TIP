{
 "cells": [
  {
   "cell_type": "code",
   "execution_count": 1,
   "metadata": {},
   "outputs": [],
   "source": [
    "#caragay, John Russell A.\n",
    "#CPE31S1\n",
    "\n",
    "#Importing necessary libraries\n",
    "import pandas as pd\n",
    "import numpy as np\n",
    "import seaborn as sns"
   ]
  },
  {
   "cell_type": "code",
   "execution_count": 2,
   "metadata": {},
   "outputs": [],
   "source": [
    "#Code for importing the dataset\n",
    "#Note that I created the missing values list since the values with \"?\" is not\n",
    "#counted as missing value.\n",
    "missing_values = [\"n/a\", \"na\", \"--\",\"?\"]\n",
    "df_patient_data = pd.read_csv('patient_data.csv', na_values = missing_values)"
   ]
  },
  {
   "cell_type": "code",
   "execution_count": 3,
   "metadata": {},
   "outputs": [
    {
     "data": {
      "text/html": [
       "<div>\n",
       "<style scoped>\n",
       "    .dataframe tbody tr th:only-of-type {\n",
       "        vertical-align: middle;\n",
       "    }\n",
       "\n",
       "    .dataframe tbody tr th {\n",
       "        vertical-align: top;\n",
       "    }\n",
       "\n",
       "    .dataframe thead th {\n",
       "        text-align: right;\n",
       "    }\n",
       "</style>\n",
       "<table border=\"1\" class=\"dataframe\">\n",
       "  <thead>\n",
       "    <tr style=\"text-align: right;\">\n",
       "      <th></th>\n",
       "      <th>patient_id</th>\n",
       "      <th>clump_thickness</th>\n",
       "      <th>cell_size_uniformity</th>\n",
       "      <th>cell_shape_uniformity</th>\n",
       "      <th>marginal_adhesion</th>\n",
       "      <th>single_ep_cell_size</th>\n",
       "      <th>bare_nuclei</th>\n",
       "      <th>bland_chromatin</th>\n",
       "      <th>normal_nucleoli</th>\n",
       "      <th>mitoses</th>\n",
       "      <th>class</th>\n",
       "      <th>doctor_name</th>\n",
       "    </tr>\n",
       "  </thead>\n",
       "  <tbody>\n",
       "    <tr>\n",
       "      <th>0</th>\n",
       "      <td>1000025</td>\n",
       "      <td>5.0</td>\n",
       "      <td>1.0</td>\n",
       "      <td>1</td>\n",
       "      <td>1</td>\n",
       "      <td>2</td>\n",
       "      <td>1.0</td>\n",
       "      <td>3.0</td>\n",
       "      <td>1.0</td>\n",
       "      <td>1</td>\n",
       "      <td>benign</td>\n",
       "      <td>Dr. Doe</td>\n",
       "    </tr>\n",
       "    <tr>\n",
       "      <th>1</th>\n",
       "      <td>1002945</td>\n",
       "      <td>5.0</td>\n",
       "      <td>4.0</td>\n",
       "      <td>4</td>\n",
       "      <td>5</td>\n",
       "      <td>7</td>\n",
       "      <td>10.0</td>\n",
       "      <td>3.0</td>\n",
       "      <td>2.0</td>\n",
       "      <td>1</td>\n",
       "      <td>benign</td>\n",
       "      <td>Dr. Smith</td>\n",
       "    </tr>\n",
       "    <tr>\n",
       "      <th>2</th>\n",
       "      <td>1015425</td>\n",
       "      <td>3.0</td>\n",
       "      <td>1.0</td>\n",
       "      <td>1</td>\n",
       "      <td>1</td>\n",
       "      <td>2</td>\n",
       "      <td>2.0</td>\n",
       "      <td>3.0</td>\n",
       "      <td>1.0</td>\n",
       "      <td>1</td>\n",
       "      <td>benign</td>\n",
       "      <td>Dr. Lee</td>\n",
       "    </tr>\n",
       "    <tr>\n",
       "      <th>3</th>\n",
       "      <td>1016277</td>\n",
       "      <td>6.0</td>\n",
       "      <td>8.0</td>\n",
       "      <td>8</td>\n",
       "      <td>1</td>\n",
       "      <td>3</td>\n",
       "      <td>4.0</td>\n",
       "      <td>3.0</td>\n",
       "      <td>7.0</td>\n",
       "      <td>1</td>\n",
       "      <td>benign</td>\n",
       "      <td>Dr. Smith</td>\n",
       "    </tr>\n",
       "    <tr>\n",
       "      <th>4</th>\n",
       "      <td>1017023</td>\n",
       "      <td>4.0</td>\n",
       "      <td>1.0</td>\n",
       "      <td>1</td>\n",
       "      <td>3</td>\n",
       "      <td>2</td>\n",
       "      <td>1.0</td>\n",
       "      <td>3.0</td>\n",
       "      <td>1.0</td>\n",
       "      <td>1</td>\n",
       "      <td>benign</td>\n",
       "      <td>Dr. Wong</td>\n",
       "    </tr>\n",
       "    <tr>\n",
       "      <th>...</th>\n",
       "      <td>...</td>\n",
       "      <td>...</td>\n",
       "      <td>...</td>\n",
       "      <td>...</td>\n",
       "      <td>...</td>\n",
       "      <td>...</td>\n",
       "      <td>...</td>\n",
       "      <td>...</td>\n",
       "      <td>...</td>\n",
       "      <td>...</td>\n",
       "      <td>...</td>\n",
       "      <td>...</td>\n",
       "    </tr>\n",
       "    <tr>\n",
       "      <th>694</th>\n",
       "      <td>776715</td>\n",
       "      <td>3.0</td>\n",
       "      <td>1.0</td>\n",
       "      <td>1</td>\n",
       "      <td>1</td>\n",
       "      <td>3</td>\n",
       "      <td>2.0</td>\n",
       "      <td>1.0</td>\n",
       "      <td>1.0</td>\n",
       "      <td>1</td>\n",
       "      <td>benign</td>\n",
       "      <td>Dr. Lee</td>\n",
       "    </tr>\n",
       "    <tr>\n",
       "      <th>695</th>\n",
       "      <td>841769</td>\n",
       "      <td>2.0</td>\n",
       "      <td>1.0</td>\n",
       "      <td>1</td>\n",
       "      <td>1</td>\n",
       "      <td>2</td>\n",
       "      <td>1.0</td>\n",
       "      <td>1.0</td>\n",
       "      <td>1.0</td>\n",
       "      <td>1</td>\n",
       "      <td>benign</td>\n",
       "      <td>Dr. Smith</td>\n",
       "    </tr>\n",
       "    <tr>\n",
       "      <th>696</th>\n",
       "      <td>888820</td>\n",
       "      <td>5.0</td>\n",
       "      <td>10.0</td>\n",
       "      <td>10</td>\n",
       "      <td>3</td>\n",
       "      <td>7</td>\n",
       "      <td>3.0</td>\n",
       "      <td>8.0</td>\n",
       "      <td>10.0</td>\n",
       "      <td>2</td>\n",
       "      <td>malignant</td>\n",
       "      <td>Dr. Lee</td>\n",
       "    </tr>\n",
       "    <tr>\n",
       "      <th>697</th>\n",
       "      <td>897471</td>\n",
       "      <td>4.0</td>\n",
       "      <td>8.0</td>\n",
       "      <td>6</td>\n",
       "      <td>4</td>\n",
       "      <td>3</td>\n",
       "      <td>4.0</td>\n",
       "      <td>10.0</td>\n",
       "      <td>6.0</td>\n",
       "      <td>1</td>\n",
       "      <td>malignant</td>\n",
       "      <td>Dr. Lee</td>\n",
       "    </tr>\n",
       "    <tr>\n",
       "      <th>698</th>\n",
       "      <td>897471</td>\n",
       "      <td>4.0</td>\n",
       "      <td>8.0</td>\n",
       "      <td>8</td>\n",
       "      <td>5</td>\n",
       "      <td>4</td>\n",
       "      <td>5.0</td>\n",
       "      <td>10.0</td>\n",
       "      <td>4.0</td>\n",
       "      <td>1</td>\n",
       "      <td>malignant</td>\n",
       "      <td>Dr. Wong</td>\n",
       "    </tr>\n",
       "  </tbody>\n",
       "</table>\n",
       "<p>699 rows × 12 columns</p>\n",
       "</div>"
      ],
      "text/plain": [
       "     patient_id  clump_thickness  cell_size_uniformity  cell_shape_uniformity  \\\n",
       "0       1000025              5.0                   1.0                      1   \n",
       "1       1002945              5.0                   4.0                      4   \n",
       "2       1015425              3.0                   1.0                      1   \n",
       "3       1016277              6.0                   8.0                      8   \n",
       "4       1017023              4.0                   1.0                      1   \n",
       "..          ...              ...                   ...                    ...   \n",
       "694      776715              3.0                   1.0                      1   \n",
       "695      841769              2.0                   1.0                      1   \n",
       "696      888820              5.0                  10.0                     10   \n",
       "697      897471              4.0                   8.0                      6   \n",
       "698      897471              4.0                   8.0                      8   \n",
       "\n",
       "     marginal_adhesion  single_ep_cell_size  bare_nuclei  bland_chromatin  \\\n",
       "0                    1                    2          1.0              3.0   \n",
       "1                    5                    7         10.0              3.0   \n",
       "2                    1                    2          2.0              3.0   \n",
       "3                    1                    3          4.0              3.0   \n",
       "4                    3                    2          1.0              3.0   \n",
       "..                 ...                  ...          ...              ...   \n",
       "694                  1                    3          2.0              1.0   \n",
       "695                  1                    2          1.0              1.0   \n",
       "696                  3                    7          3.0              8.0   \n",
       "697                  4                    3          4.0             10.0   \n",
       "698                  5                    4          5.0             10.0   \n",
       "\n",
       "     normal_nucleoli  mitoses      class doctor_name  \n",
       "0                1.0        1     benign     Dr. Doe  \n",
       "1                2.0        1     benign   Dr. Smith  \n",
       "2                1.0        1     benign     Dr. Lee  \n",
       "3                7.0        1     benign   Dr. Smith  \n",
       "4                1.0        1     benign    Dr. Wong  \n",
       "..               ...      ...        ...         ...  \n",
       "694              1.0        1     benign     Dr. Lee  \n",
       "695              1.0        1     benign   Dr. Smith  \n",
       "696             10.0        2  malignant     Dr. Lee  \n",
       "697              6.0        1  malignant     Dr. Lee  \n",
       "698              4.0        1  malignant    Dr. Wong  \n",
       "\n",
       "[699 rows x 12 columns]"
      ]
     },
     "execution_count": 3,
     "metadata": {},
     "output_type": "execute_result"
    }
   ],
   "source": [
    "#Displaying the dataset\n",
    "df_patient_data"
   ]
  },
  {
   "cell_type": "code",
   "execution_count": 4,
   "metadata": {},
   "outputs": [
    {
     "name": "stdout",
     "output_type": "stream",
     "text": [
      "Size of Dataset: 8388\n"
     ]
    }
   ],
   "source": [
    "#Displaying the size of the dataset\n",
    "print('Size of Dataset:',df_patient_data.size)"
   ]
  },
  {
   "cell_type": "code",
   "execution_count": 5,
   "metadata": {},
   "outputs": [
    {
     "data": {
      "text/plain": [
       "patient_id                 int64\n",
       "clump_thickness          float64\n",
       "cell_size_uniformity     float64\n",
       "cell_shape_uniformity      int64\n",
       "marginal_adhesion          int64\n",
       "single_ep_cell_size        int64\n",
       "bare_nuclei              float64\n",
       "bland_chromatin          float64\n",
       "normal_nucleoli          float64\n",
       "mitoses                    int64\n",
       "class                     object\n",
       "doctor_name               object\n",
       "dtype: object"
      ]
     },
     "execution_count": 5,
     "metadata": {},
     "output_type": "execute_result"
    }
   ],
   "source": [
    "#Displaying the column names and their data types\n",
    "df_patient_data.dtypes"
   ]
  },
  {
   "cell_type": "code",
   "execution_count": 6,
   "metadata": {},
   "outputs": [
    {
     "data": {
      "text/plain": [
       "patient_id               False\n",
       "clump_thickness           True\n",
       "cell_size_uniformity      True\n",
       "cell_shape_uniformity    False\n",
       "marginal_adhesion        False\n",
       "single_ep_cell_size      False\n",
       "bare_nuclei               True\n",
       "bland_chromatin           True\n",
       "normal_nucleoli           True\n",
       "mitoses                  False\n",
       "class                    False\n",
       "doctor_name              False\n",
       "dtype: bool"
      ]
     },
     "execution_count": 6,
     "metadata": {},
     "output_type": "execute_result"
    }
   ],
   "source": [
    "#Displaying the missing values of the columns in terms of True/False\n",
    "df_patient_data.isna().any()"
   ]
  },
  {
   "cell_type": "code",
   "execution_count": 7,
   "metadata": {},
   "outputs": [
    {
     "data": {
      "text/plain": [
       "patient_id                0\n",
       "clump_thickness           1\n",
       "cell_size_uniformity      1\n",
       "cell_shape_uniformity     0\n",
       "marginal_adhesion         0\n",
       "single_ep_cell_size       0\n",
       "bare_nuclei              18\n",
       "bland_chromatin           4\n",
       "normal_nucleoli           1\n",
       "mitoses                   0\n",
       "class                     0\n",
       "doctor_name               0\n",
       "dtype: int64"
      ]
     },
     "execution_count": 7,
     "metadata": {},
     "output_type": "execute_result"
    }
   ],
   "source": [
    "#Displaying the total number of missing values per column\n",
    "df_patient_data.isna().sum()"
   ]
  },
  {
   "cell_type": "code",
   "execution_count": 8,
   "metadata": {},
   "outputs": [],
   "source": [
    "#Filling missing values with 0\n",
    "df_patient_data.fillna(value = 0,inplace = True)"
   ]
  },
  {
   "cell_type": "code",
   "execution_count": 9,
   "metadata": {},
   "outputs": [
    {
     "data": {
      "text/plain": [
       "patient_id               0\n",
       "clump_thickness          0\n",
       "cell_size_uniformity     0\n",
       "cell_shape_uniformity    0\n",
       "marginal_adhesion        0\n",
       "single_ep_cell_size      0\n",
       "bare_nuclei              0\n",
       "bland_chromatin          0\n",
       "normal_nucleoli          0\n",
       "mitoses                  0\n",
       "class                    0\n",
       "doctor_name              0\n",
       "dtype: int64"
      ]
     },
     "execution_count": 9,
     "metadata": {},
     "output_type": "execute_result"
    }
   ],
   "source": [
    "#Checking if there are still missing values in each column\n",
    "df_patient_data.isna().sum()"
   ]
  },
  {
   "cell_type": "code",
   "execution_count": null,
   "metadata": {},
   "outputs": [],
   "source": []
  },
  {
   "cell_type": "code",
   "execution_count": 10,
   "metadata": {},
   "outputs": [],
   "source": [
    "#Code for importing the df1\n",
    "#Note that I created the missing values list since the values with \"?\" is not\n",
    "#counted as missing value.\n",
    "missing_values = [\"n/a\", \"na\", \"--\",\"?\"]\n",
    "df1 = pd.read_csv('patient_data.csv', na_values = missing_values)"
   ]
  },
  {
   "cell_type": "code",
   "execution_count": 11,
   "metadata": {},
   "outputs": [
    {
     "name": "stderr",
     "output_type": "stream",
     "text": [
      "C:\\Users\\RUSSEL~1\\AppData\\Local\\Temp/ipykernel_19684/360363816.py:2: FutureWarning: Dropping of nuisance columns in DataFrame reductions (with 'numeric_only=None') is deprecated; in a future version this will raise TypeError.  Select only valid columns before calling the reduction.\n",
      "  df1.mean()\n"
     ]
    },
    {
     "data": {
      "text/plain": [
       "patient_id               1.071704e+06\n",
       "clump_thickness          4.416905e+00\n",
       "cell_size_uniformity     3.137536e+00\n",
       "cell_shape_uniformity    3.207439e+00\n",
       "marginal_adhesion        2.793991e+00\n",
       "single_ep_cell_size      3.216023e+00\n",
       "bare_nuclei              3.538913e+00\n",
       "bland_chromatin          3.447482e+00\n",
       "normal_nucleoli          2.868195e+00\n",
       "mitoses                  1.589413e+00\n",
       "dtype: float64"
      ]
     },
     "execution_count": 11,
     "metadata": {},
     "output_type": "execute_result"
    }
   ],
   "source": [
    "#Getting the mean of each column\n",
    "df1.mean()"
   ]
  },
  {
   "cell_type": "code",
   "execution_count": 14,
   "metadata": {},
   "outputs": [
    {
     "name": "stderr",
     "output_type": "stream",
     "text": [
      "C:\\Users\\RUSSEL~1\\AppData\\Local\\Temp/ipykernel_19684/3590431875.py:2: FutureWarning: Dropping of nuisance columns in DataFrame reductions (with 'numeric_only=None') is deprecated; in a future version this will raise TypeError.  Select only valid columns before calling the reduction.\n",
      "  df1.fillna(df1.mean(),inplace = True)\n"
     ]
    }
   ],
   "source": [
    "#Filling the missing values with the column mean\n",
    "df1.fillna(df1.mean(),inplace = True)"
   ]
  },
  {
   "cell_type": "code",
   "execution_count": 13,
   "metadata": {},
   "outputs": [
    {
     "data": {
      "text/plain": [
       "patient_id               False\n",
       "clump_thickness          False\n",
       "cell_size_uniformity     False\n",
       "cell_shape_uniformity    False\n",
       "marginal_adhesion        False\n",
       "single_ep_cell_size      False\n",
       "bare_nuclei              False\n",
       "bland_chromatin          False\n",
       "normal_nucleoli          False\n",
       "mitoses                  False\n",
       "class                    False\n",
       "doctor_name              False\n",
       "dtype: bool"
      ]
     },
     "execution_count": 13,
     "metadata": {},
     "output_type": "execute_result"
    }
   ],
   "source": [
    "#Checking if there are still missing values in each column\n",
    "df1.isna().any()"
   ]
  },
  {
   "cell_type": "code",
   "execution_count": 15,
   "metadata": {},
   "outputs": [
    {
     "name": "stdout",
     "output_type": "stream",
     "text": [
      "\n",
      "INSTALLED VERSIONS\n",
      "------------------\n",
      "commit           : 945c9ed766a61c7d2c0a7cbb251b6edebf9cb7d5\n",
      "python           : 3.8.12.final.0\n",
      "python-bits      : 64\n",
      "OS               : Windows\n",
      "OS-release       : 10\n",
      "Version          : 10.0.22000\n",
      "machine          : AMD64\n",
      "processor        : Intel64 Family 6 Model 165 Stepping 2, GenuineIntel\n",
      "byteorder        : little\n",
      "LC_ALL           : None\n",
      "LANG             : None\n",
      "LOCALE           : English_Philippines.1252\n",
      "\n",
      "pandas           : 1.3.4\n",
      "numpy            : 1.21.2\n",
      "pytz             : 2021.3\n",
      "dateutil         : 2.8.2\n",
      "pip              : 21.2.2\n",
      "setuptools       : 58.0.4\n",
      "Cython           : 0.29.24\n",
      "pytest           : 6.2.4\n",
      "hypothesis       : None\n",
      "sphinx           : 3.2.1\n",
      "blosc            : None\n",
      "feather          : None\n",
      "xlsxwriter       : 3.0.2\n",
      "lxml.etree       : 4.6.3\n",
      "html5lib         : 1.1\n",
      "pymysql          : None\n",
      "psycopg2         : None\n",
      "jinja2           : 2.11.3\n",
      "IPython          : 7.29.0\n",
      "pandas_datareader: None\n",
      "bs4              : 4.10.0\n",
      "bottleneck       : 1.3.2\n",
      "fsspec           : 2021.10.1\n",
      "fastparquet      : None\n",
      "gcsfs            : None\n",
      "matplotlib       : 3.5.0\n",
      "numexpr          : 2.7.3\n",
      "odfpy            : None\n",
      "openpyxl         : 3.0.9\n",
      "pandas_gbq       : None\n",
      "pyarrow          : None\n",
      "pyxlsb           : None\n",
      "s3fs             : None\n",
      "scipy            : 1.7.1\n",
      "sqlalchemy       : 1.4.27\n",
      "tables           : 3.6.1\n",
      "tabulate         : None\n",
      "xarray           : None\n",
      "xlrd             : 2.0.1\n",
      "xlwt             : 1.3.0\n",
      "numba            : 0.51.2\n"
     ]
    }
   ],
   "source": [
    "pd. show_versions()"
   ]
  },
  {
   "cell_type": "markdown",
   "metadata": {},
   "source": [
    "#### vvv Testing Zone vvv"
   ]
  },
  {
   "cell_type": "code",
   "execution_count": null,
   "metadata": {},
   "outputs": [],
   "source": []
  },
  {
   "cell_type": "code",
   "execution_count": 19,
   "metadata": {},
   "outputs": [],
   "source": [
    "# Making a list of missing value types\n",
    "missing_values = [\"n/a\", \"na\", \"--\",\"?\"]\n",
    "df = pd.read_csv(\"patient_data.csv\", na_values = missing_values)"
   ]
  },
  {
   "cell_type": "code",
   "execution_count": 51,
   "metadata": {},
   "outputs": [
    {
     "data": {
      "text/plain": [
       "0      False\n",
       "1      False\n",
       "2      False\n",
       "3      False\n",
       "4      False\n",
       "       ...  \n",
       "694    False\n",
       "695    False\n",
       "696    False\n",
       "697    False\n",
       "698    False\n",
       "Name: bare_nuclei, Length: 699, dtype: bool"
      ]
     },
     "execution_count": 51,
     "metadata": {},
     "output_type": "execute_result"
    }
   ],
   "source": [
    "z = df['bare_nuclei'].isnull()\n",
    "z"
   ]
  },
  {
   "cell_type": "code",
   "execution_count": 52,
   "metadata": {},
   "outputs": [
    {
     "data": {
      "text/plain": [
       "False    681\n",
       "True      18\n",
       "Name: bare_nuclei, dtype: int64"
      ]
     },
     "execution_count": 52,
     "metadata": {},
     "output_type": "execute_result"
    }
   ],
   "source": [
    "z.value_counts()"
   ]
  },
  {
   "cell_type": "code",
   "execution_count": 37,
   "metadata": {
    "scrolled": false
   },
   "outputs": [],
   "source": [
    "p=df_patient_data['bare_nuclei'].isna()"
   ]
  },
  {
   "cell_type": "code",
   "execution_count": 38,
   "metadata": {},
   "outputs": [
    {
     "data": {
      "text/plain": [
       "False    697\n",
       "True       2\n",
       "Name: bare_nuclei, dtype: int64"
      ]
     },
     "execution_count": 38,
     "metadata": {},
     "output_type": "execute_result"
    }
   ],
   "source": [
    "p.value_counts()"
   ]
  },
  {
   "cell_type": "code",
   "execution_count": 44,
   "metadata": {},
   "outputs": [
    {
     "data": {
      "text/plain": [
       "18"
      ]
     },
     "execution_count": 44,
     "metadata": {},
     "output_type": "execute_result"
    }
   ],
   "source": [
    "z.sum()"
   ]
  },
  {
   "cell_type": "code",
   "execution_count": 53,
   "metadata": {},
   "outputs": [
    {
     "data": {
      "text/plain": [
       "patient_id                0\n",
       "clump_thickness           1\n",
       "cell_size_uniformity      1\n",
       "cell_shape_uniformity     0\n",
       "marginal_adhesion         0\n",
       "single_ep_cell_size       0\n",
       "bare_nuclei              18\n",
       "bland_chromatin           4\n",
       "normal_nucleoli           1\n",
       "mitoses                   0\n",
       "class                     0\n",
       "doctor_name               0\n",
       "dtype: int64"
      ]
     },
     "execution_count": 53,
     "metadata": {},
     "output_type": "execute_result"
    }
   ],
   "source": [
    "df_patient_data.isna().sum()"
   ]
  },
  {
   "cell_type": "code",
   "execution_count": null,
   "metadata": {},
   "outputs": [],
   "source": []
  },
  {
   "cell_type": "code",
   "execution_count": null,
   "metadata": {},
   "outputs": [],
   "source": []
  },
  {
   "cell_type": "code",
   "execution_count": null,
   "metadata": {},
   "outputs": [],
   "source": []
  },
  {
   "cell_type": "code",
   "execution_count": 59,
   "metadata": {},
   "outputs": [],
   "source": [
    "#Code for importing the dataset\n",
    "#Note that I created the missing values list since the values with \"?\" is not\n",
    "#counted as missing value.\n",
    "missing_values = [\"n/a\", \"na\", \"--\",\"?\"]\n",
    "df2 = pd.read_csv('patient_data.csv', na_values = missing_values)"
   ]
  },
  {
   "cell_type": "code",
   "execution_count": 62,
   "metadata": {},
   "outputs": [],
   "source": [
    "df2.fillna(df2.mean(),inplace = True)"
   ]
  },
  {
   "cell_type": "code",
   "execution_count": 63,
   "metadata": {},
   "outputs": [
    {
     "data": {
      "text/plain": [
       "patient_id               0\n",
       "clump_thickness          0\n",
       "cell_size_uniformity     0\n",
       "cell_shape_uniformity    0\n",
       "marginal_adhesion        0\n",
       "single_ep_cell_size      0\n",
       "bare_nuclei              0\n",
       "bland_chromatin          0\n",
       "normal_nucleoli          0\n",
       "mitoses                  0\n",
       "class                    0\n",
       "doctor_name              0\n",
       "dtype: int64"
      ]
     },
     "execution_count": 63,
     "metadata": {},
     "output_type": "execute_result"
    }
   ],
   "source": [
    "df2.isna().sum()"
   ]
  },
  {
   "cell_type": "code",
   "execution_count": null,
   "metadata": {},
   "outputs": [],
   "source": []
  }
 ],
 "metadata": {
  "kernelspec": {
   "display_name": "Python 3 (ipykernel)",
   "language": "python",
   "name": "python3"
  },
  "language_info": {
   "codemirror_mode": {
    "name": "ipython",
    "version": 3
   },
   "file_extension": ".py",
   "mimetype": "text/x-python",
   "name": "python",
   "nbconvert_exporter": "python",
   "pygments_lexer": "ipython3",
   "version": "3.8.12"
  }
 },
 "nbformat": 4,
 "nbformat_minor": 4
}
