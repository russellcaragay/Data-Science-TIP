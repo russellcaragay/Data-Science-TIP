{
 "cells": [
  {
   "cell_type": "markdown",
   "metadata": {},
   "source": [
    "## <font color='blue'>Midterm Exam</font> "
   ]
  },
  {
   "cell_type": "markdown",
   "metadata": {},
   "source": [
    "### <font color='black'>Group 3: Appliances</font> \n",
    "<font color='black'>Bartolome, Sofia Bartolome</font> <br/>\n",
    "<font color='black'>Caragay, John Russell</font> <br/>\n",
    "<font color='black'>Escabarte, Karen</font> <br/>\n",
    "<font color='black'>Odvina, Christian</font> <br/>"
   ]
  },
  {
   "cell_type": "markdown",
   "metadata": {},
   "source": [
    "<hr style=\"height:2px;border:5px solid black;\"></hr>"
   ]
  },
  {
   "cell_type": "markdown",
   "metadata": {},
   "source": [
    "#### Importing Necessary Libraries "
   ]
  },
  {
   "cell_type": "code",
   "execution_count": 1,
   "metadata": {},
   "outputs": [],
   "source": [
    "import pandas as pd\n",
    "import os\n",
    "import numpy as np\n",
    "import cv2\n",
    "import matplotlib.pyplot as plt\n",
    "import pickle\n",
    "%matplotlib inline"
   ]
  },
  {
   "cell_type": "markdown",
   "metadata": {},
   "source": [
    "#### Returning All Properties and Methods in the Folder"
   ]
  },
  {
   "cell_type": "code",
   "execution_count": 2,
   "metadata": {},
   "outputs": [],
   "source": [
    "dir =  'C:/Users/Russell Caragay/COE 004 - INFERENTIAL THINKING/Midterm Exam/Appliance'"
   ]
  },
  {
   "cell_type": "markdown",
   "metadata": {},
   "source": [
    "#### Getting the Images in the Folder and Using cv2 for Checking"
   ]
  },
  {
   "cell_type": "code",
   "execution_count": 3,
   "metadata": {},
   "outputs": [],
   "source": [
    "categories = ['Electric Fans','Refrigerators']\n",
    "for category in categories:\n",
    "    path = os.path.join(dir,category) \n",
    "    for img in os.listdir(path):\n",
    "        imgpath = os.path.join(path,img)\n",
    "        appliance_img = cv2.imread(imgpath,0)\n",
    "        cv2.imshow('image',appliance_img)\n",
    "        break\n",
    "    break\n",
    "\n",
    "#Reading the first Image\n",
    "cv2.waitKey(0)\n",
    "cv2.destroyAllWindows()"
   ]
  },
  {
   "cell_type": "markdown",
   "metadata": {},
   "source": [
    "#### Appending the properties of the images"
   ]
  },
  {
   "cell_type": "code",
   "execution_count": 4,
   "metadata": {},
   "outputs": [
    {
     "name": "stdout",
     "output_type": "stream",
     "text": [
      "200\n"
     ]
    }
   ],
   "source": [
    "categories = ['Electric Fans','Refrigerators']\n",
    "data = []\n",
    "\n",
    "for category in categories:\n",
    "    path = os.path.join(dir,category)\n",
    "    label = categories.index(category) \n",
    "    for img in os.listdir(path):\n",
    "        imgpath = os.path.join(path,img)\n",
    "        appliance_img = cv2.imread(imgpath,0)\n",
    "        try:\n",
    "            appliance_img = cv2.resize(appliance_img,(50,50))\n",
    "            image = np.array(appliance_img).flatten()\n",
    "            data.append([image,label])\n",
    "        except Exception as e:\n",
    "            pass\n",
    "\n",
    "#Checking the number of Images in the data\n",
    "print(len(data))"
   ]
  },
  {
   "cell_type": "code",
   "execution_count": 5,
   "metadata": {
    "scrolled": true
   },
   "outputs": [
    {
     "data": {
      "text/plain": [
       "[[array([255, 255, 255, ..., 255, 255, 255], dtype=uint8), 0],\n",
       " [array([ 58,  69,  65, ..., 102, 102,  95], dtype=uint8), 0],\n",
       " [array([11,  4,  4, ..., 75, 93, 91], dtype=uint8), 0],\n",
       " [array([251, 254, 254, ...,  34,  31,  29], dtype=uint8), 0],\n",
       " [array([255, 255, 255, ..., 255, 255, 255], dtype=uint8), 0],\n",
       " [array([255, 255, 255, ..., 255, 255, 255], dtype=uint8), 0],\n",
       " [array([255, 255, 255, ..., 255, 255, 255], dtype=uint8), 0],\n",
       " [array([130,  99,  45, ..., 114, 113, 113], dtype=uint8), 0],\n",
       " [array([255, 255, 255, ..., 255, 255, 255], dtype=uint8), 0],\n",
       " [array([252, 252, 252, ..., 252, 252, 252], dtype=uint8), 0],\n",
       " [array([ 19,  21,  18, ..., 255, 254, 253], dtype=uint8), 0],\n",
       " [array([110, 110, 114, ..., 169, 178, 173], dtype=uint8), 0],\n",
       " [array([255, 255, 255, ..., 255, 255, 255], dtype=uint8), 0],\n",
       " [array([255, 255, 255, ..., 255, 255, 255], dtype=uint8), 0],\n",
       " [array([255, 255, 255, ..., 255, 255, 255], dtype=uint8), 0],\n",
       " [array([255, 255, 255, ..., 255, 255, 255], dtype=uint8), 0],\n",
       " [array([255, 255, 255, ..., 255, 255, 255], dtype=uint8), 0],\n",
       " [array([255, 255, 255, ..., 255, 255, 255], dtype=uint8), 0],\n",
       " [array([255, 255, 255, ..., 255, 255, 255], dtype=uint8), 0],\n",
       " [array([255, 255, 255, ..., 255, 255, 255], dtype=uint8), 0],\n",
       " [array([255, 255, 255, ..., 255, 255, 255], dtype=uint8), 0],\n",
       " [array([255, 255, 255, ..., 255, 255, 255], dtype=uint8), 0],\n",
       " [array([255, 255, 255, ..., 255, 255, 255], dtype=uint8), 0],\n",
       " [array([255, 255, 255, ..., 255, 255, 255], dtype=uint8), 0],\n",
       " [array([255, 255, 255, ..., 255, 255, 255], dtype=uint8), 0],\n",
       " [array([188, 190, 193, ...,  71,  70,  68], dtype=uint8), 0],\n",
       " [array([255, 255, 255, ..., 255, 255, 255], dtype=uint8), 0],\n",
       " [array([148, 149, 146, ..., 101, 103, 100], dtype=uint8), 0],\n",
       " [array([254, 254, 254, ..., 255, 255, 255], dtype=uint8), 0],\n",
       " [array([255, 255, 255, ..., 255, 255, 255], dtype=uint8), 0],\n",
       " [array([255, 255, 255, ..., 255, 255, 255], dtype=uint8), 0],\n",
       " [array([243, 243, 243, ..., 243, 243, 243], dtype=uint8), 0],\n",
       " [array([255, 255, 255, ..., 255, 255, 255], dtype=uint8), 0],\n",
       " [array([255, 255, 255, ..., 255, 255, 255], dtype=uint8), 0],\n",
       " [array([255, 255, 255, ..., 255, 255, 255], dtype=uint8), 0],\n",
       " [array([254, 254, 255, ..., 255, 255, 255], dtype=uint8), 0],\n",
       " [array([255, 255, 255, ..., 255, 255, 255], dtype=uint8), 0],\n",
       " [array([255, 255, 255, ..., 255, 255, 255], dtype=uint8), 0],\n",
       " [array([255, 255, 255, ..., 255, 255, 255], dtype=uint8), 0],\n",
       " [array([255, 255, 255, ..., 255, 255, 255], dtype=uint8), 0],\n",
       " [array([255, 255, 255, ..., 255, 255, 255], dtype=uint8), 0],\n",
       " [array([255, 255, 255, ..., 255, 255, 255], dtype=uint8), 0],\n",
       " [array([254, 255, 255, ..., 255, 255, 255], dtype=uint8), 0],\n",
       " [array([255, 255, 255, ..., 255, 254, 255], dtype=uint8), 0],\n",
       " [array([191, 168, 156, ..., 124, 121, 119], dtype=uint8), 0],\n",
       " [array([255, 255, 255, ..., 255, 255, 255], dtype=uint8), 0],\n",
       " [array([255, 255, 255, ..., 255, 255, 255], dtype=uint8), 0],\n",
       " [array([255, 255, 255, ..., 255, 255, 255], dtype=uint8), 0],\n",
       " [array([255, 255, 255, ..., 255, 255, 255], dtype=uint8), 0],\n",
       " [array([212, 209, 211, ..., 213, 216, 211], dtype=uint8), 0],\n",
       " [array([255, 255, 255, ..., 255, 255, 255], dtype=uint8), 0],\n",
       " [array([11, 12, 12, ..., 65, 67, 65], dtype=uint8), 0],\n",
       " [array([216, 218, 219, ..., 217, 216, 216], dtype=uint8), 0],\n",
       " [array([255, 255, 254, ..., 255, 254, 255], dtype=uint8), 0],\n",
       " [array([201, 201, 201, ...,  17,  12,  12], dtype=uint8), 0],\n",
       " [array([255, 255, 255, ..., 255, 255, 255], dtype=uint8), 0],\n",
       " [array([255, 255, 255, ..., 255, 255, 255], dtype=uint8), 0],\n",
       " [array([255, 255, 255, ..., 255, 255, 255], dtype=uint8), 0],\n",
       " [array([255, 255, 255, ..., 255, 255, 255], dtype=uint8), 0],\n",
       " [array([208, 208, 208, ..., 205, 203, 202], dtype=uint8), 0],\n",
       " [array([255, 255, 255, ..., 255, 255, 255], dtype=uint8), 0],\n",
       " [array([255, 255, 255, ..., 255, 255, 255], dtype=uint8), 0],\n",
       " [array([255, 255, 255, ..., 255, 255, 255], dtype=uint8), 0],\n",
       " [array([255, 255, 255, ..., 255, 255, 255], dtype=uint8), 0],\n",
       " [array([255, 255, 255, ..., 255, 255, 255], dtype=uint8), 0],\n",
       " [array([255, 255, 255, ..., 255, 255, 255], dtype=uint8), 0],\n",
       " [array([255, 255, 255, ..., 255, 255, 255], dtype=uint8), 0],\n",
       " [array([210, 211, 222, ..., 218, 218, 213], dtype=uint8), 0],\n",
       " [array([255, 255, 255, ..., 255, 255, 255], dtype=uint8), 0],\n",
       " [array([208, 209, 208, ..., 205, 203, 202], dtype=uint8), 0],\n",
       " [array([255, 255, 255, ..., 255, 255, 255], dtype=uint8), 0],\n",
       " [array([255, 255, 255, ..., 255, 255, 255], dtype=uint8), 0],\n",
       " [array([255, 255, 255, ..., 255, 255, 255], dtype=uint8), 0],\n",
       " [array([255, 255, 255, ..., 255, 255, 255], dtype=uint8), 0],\n",
       " [array([255, 255, 255, ..., 255, 255, 255], dtype=uint8), 0],\n",
       " [array([254, 254, 255, ..., 255, 255, 255], dtype=uint8), 0],\n",
       " [array([255, 255, 255, ..., 255, 255, 255], dtype=uint8), 0],\n",
       " [array([255, 255, 255, ..., 255, 255, 255], dtype=uint8), 0],\n",
       " [array([176, 175, 178, ..., 206, 204, 204], dtype=uint8), 0],\n",
       " [array([255, 255, 255, ..., 255, 255, 255], dtype=uint8), 0],\n",
       " [array([254, 254, 255, ..., 255, 255, 255], dtype=uint8), 0],\n",
       " [array([255, 255, 255, ..., 148, 149, 147], dtype=uint8), 0],\n",
       " [array([255, 255, 255, ..., 255, 255, 255], dtype=uint8), 0],\n",
       " [array([255, 255, 255, ..., 255, 255, 255], dtype=uint8), 0],\n",
       " [array([255, 255, 255, ..., 255, 255, 255], dtype=uint8), 0],\n",
       " [array([255, 255, 255, ..., 255, 255, 255], dtype=uint8), 0],\n",
       " [array([255, 255, 255, ..., 255, 255, 255], dtype=uint8), 0],\n",
       " [array([255, 255, 255, ..., 255, 255, 255], dtype=uint8), 0],\n",
       " [array([254, 255, 254, ..., 255, 255, 255], dtype=uint8), 0],\n",
       " [array([140, 200, 219, ..., 247, 247, 247], dtype=uint8), 0],\n",
       " [array([255, 255, 255, ..., 255, 255, 255], dtype=uint8), 0],\n",
       " [array([181, 181, 180, ...,  67,  69,  63], dtype=uint8), 0],\n",
       " [array([255, 255, 255, ..., 255, 255, 255], dtype=uint8), 0],\n",
       " [array([255, 255, 255, ..., 255, 255, 255], dtype=uint8), 0],\n",
       " [array([254, 254, 254, ..., 254, 254, 254], dtype=uint8), 0],\n",
       " [array([255, 255, 255, ..., 255, 255, 255], dtype=uint8), 0],\n",
       " [array([229, 227, 226, ..., 249, 250, 250], dtype=uint8), 0],\n",
       " [array([255, 255, 255, ..., 255, 255, 255], dtype=uint8), 0],\n",
       " [array([ 90,  84, 122, ..., 224, 227, 225], dtype=uint8), 0],\n",
       " [array([254, 254, 254, ..., 255, 255, 255], dtype=uint8), 0],\n",
       " [array([ 21,  21,  21, ..., 120, 119, 113], dtype=uint8), 1],\n",
       " [array([166, 167, 166, ..., 212, 210, 207], dtype=uint8), 1],\n",
       " [array([212, 198, 200, ..., 183, 181,  14], dtype=uint8), 1],\n",
       " [array([170, 170, 175, ..., 100, 112, 122], dtype=uint8), 1],\n",
       " [array([192, 194, 192, ..., 166, 165, 153], dtype=uint8), 1],\n",
       " [array([ 0,  0,  1, ..., 11,  9,  6], dtype=uint8), 1],\n",
       " [array([255, 255, 255, ...,  85,  80,  80], dtype=uint8), 1],\n",
       " [array([ 78,  55,  35, ..., 121, 122,   0], dtype=uint8), 1],\n",
       " [array([  0,   0,  47, ..., 147, 146, 145], dtype=uint8), 1],\n",
       " [array([102, 103, 105, ...,  83,  71,  58], dtype=uint8), 1],\n",
       " [array([ 21,  21,  21, ..., 155, 153, 147], dtype=uint8), 1],\n",
       " [array([164, 128,  84, ...,  45,  36,  20], dtype=uint8), 1],\n",
       " [array([199, 197, 196, ..., 123, 133, 125], dtype=uint8), 1],\n",
       " [array([235, 235, 235, ..., 132, 148, 158], dtype=uint8), 1],\n",
       " [array([25, 54, 51, ..., 69, 71, 69], dtype=uint8), 1],\n",
       " [array([ 97,  89,  93, ..., 164, 154, 170], dtype=uint8), 1],\n",
       " [array([ 66,  63,  64, ..., 108, 107, 109], dtype=uint8), 1],\n",
       " [array([145, 152, 154, ..., 100, 108, 125], dtype=uint8), 1],\n",
       " [array([103, 104, 106, ...,  80,  78,  78], dtype=uint8), 1],\n",
       " [array([21, 21, 21, ..., 38, 40, 38], dtype=uint8), 1],\n",
       " [array([210, 210, 210, ..., 198, 198, 197], dtype=uint8), 1],\n",
       " [array([225, 225, 222, ..., 161, 163, 162], dtype=uint8), 1],\n",
       " [array([ 17,  25,  31, ..., 198,  84,  82], dtype=uint8), 1],\n",
       " [array([162, 162, 163, ..., 159, 139, 146], dtype=uint8), 1],\n",
       " [array([ 22,  22,  22, ..., 146, 152, 160], dtype=uint8), 1],\n",
       " [array([ 54, 162, 162, ..., 166, 151, 142], dtype=uint8), 1],\n",
       " [array([116, 116, 117, ..., 100, 107,  92], dtype=uint8), 1],\n",
       " [array([ 99,  92,  95, ...,  64, 101,  89], dtype=uint8), 1],\n",
       " [array([243, 237, 238, ..., 136, 136, 132], dtype=uint8), 1],\n",
       " [array([210, 210, 211, ..., 241, 245, 246], dtype=uint8), 1],\n",
       " [array([ 31,  36, 129, ...,  49,  54, 118], dtype=uint8), 1],\n",
       " [array([252, 252, 250, ...,  92,  82,  76], dtype=uint8), 1],\n",
       " [array([232, 254, 254, ..., 125,  92,  82], dtype=uint8), 1],\n",
       " [array([135, 223, 222, ..., 150, 144, 156], dtype=uint8), 1],\n",
       " [array([21, 21, 21, ..., 47, 45,  0], dtype=uint8), 1],\n",
       " [array([ 65,  98, 104, ...,  30,  18,   8], dtype=uint8), 1],\n",
       " [array([187, 191, 193, ..., 157, 157, 165], dtype=uint8), 1],\n",
       " [array([126, 121, 133, ...,  56,  57,  58], dtype=uint8), 1],\n",
       " [array([75, 79, 95, ..., 60, 57, 59], dtype=uint8), 1],\n",
       " [array([114, 117, 120, ..., 124, 105,  99], dtype=uint8), 1],\n",
       " [array([192, 189, 184, ..., 153, 155, 152], dtype=uint8), 1],\n",
       " [array([178, 170, 152, ..., 122, 126, 123], dtype=uint8), 1],\n",
       " [array([ 59,  48,  52, ...,  98,  99, 101], dtype=uint8), 1],\n",
       " [array([18, 16, 16, ..., 78, 78, 74], dtype=uint8), 1],\n",
       " [array([197, 194, 176, ..., 213, 211, 209], dtype=uint8), 1],\n",
       " [array([ 43,  45,  47, ..., 102,  99,  99], dtype=uint8), 1],\n",
       " [array([164, 167, 169, ...,  55,  61,  55], dtype=uint8), 1],\n",
       " [array([ 20,  21,  15, ..., 158, 144, 155], dtype=uint8), 1],\n",
       " [array([186, 187, 189, ..., 147, 126, 126], dtype=uint8), 1],\n",
       " [array([143, 172, 179, ..., 154, 160, 189], dtype=uint8), 1],\n",
       " [array([180, 175, 178, ...,  74,  74,  74], dtype=uint8), 1],\n",
       " [array([182, 181, 179, ..., 160, 163, 158], dtype=uint8), 1],\n",
       " [array([206, 232, 239, ..., 176, 171, 179], dtype=uint8), 1],\n",
       " [array([130,  89, 170, ...,  62,  48,  45], dtype=uint8), 1],\n",
       " [array([197, 197, 194, ...,  86,  84,  84], dtype=uint8), 1],\n",
       " [array([145, 178, 144, ..., 113, 105, 104], dtype=uint8), 1],\n",
       " [array([43, 43, 43, ..., 36, 35, 37], dtype=uint8), 1],\n",
       " [array([191, 191, 191, ..., 173, 162, 169], dtype=uint8), 1],\n",
       " [array([88, 83, 43, ..., 97, 93, 88], dtype=uint8), 1],\n",
       " [array([ 19,  31,  15, ..., 175, 178, 187], dtype=uint8), 1],\n",
       " [array([126, 134, 135, ..., 104,  72,  77], dtype=uint8), 1],\n",
       " [array([106,  66,  73, ..., 138, 142, 154], dtype=uint8), 1],\n",
       " [array([156, 149, 220, ...,  78,  83,  92], dtype=uint8), 1],\n",
       " [array([155, 156, 159, ...,  49,  51,  43], dtype=uint8), 1],\n",
       " [array([106, 107, 106, ...,  65,  63, 113], dtype=uint8), 1],\n",
       " [array([190, 186, 188, ...,  90,  92,  77], dtype=uint8), 1],\n",
       " [array([142, 139, 136, ..., 106,  99,  98], dtype=uint8), 1],\n",
       " [array([105, 113, 110, ...,  43,  32,  30], dtype=uint8), 1],\n",
       " [array([ 59,  60,  61, ..., 141, 141, 144], dtype=uint8), 1],\n",
       " [array([160, 160, 157, ...,  56,  76,  88], dtype=uint8), 1],\n",
       " [array([162, 162, 161, ..., 145, 128, 119], dtype=uint8), 1],\n",
       " [array([130, 130, 133, ..., 220, 216, 184], dtype=uint8), 1],\n",
       " [array([ 98, 102,  95, ...,  29,  31,  83], dtype=uint8), 1],\n",
       " [array([152, 164, 175, ..., 142,  85,  58], dtype=uint8), 1],\n",
       " [array([164, 146, 218, ..., 215, 215, 215], dtype=uint8), 1],\n",
       " [array([116, 112, 109, ..., 177, 165,  85], dtype=uint8), 1],\n",
       " [array([150, 142, 150, ...,  50,  66,  55], dtype=uint8), 1],\n",
       " [array([184, 185, 183, ..., 229, 228, 224], dtype=uint8), 1],\n",
       " [array([ 92,  91,  90, ...,  95, 102, 134], dtype=uint8), 1],\n",
       " [array([ 24,  26,  29, ..., 229, 230, 236], dtype=uint8), 1],\n",
       " [array([148, 145, 147, ..., 146, 154, 150], dtype=uint8), 1],\n",
       " [array([250, 245, 242, ..., 110,  63,  55], dtype=uint8), 1],\n",
       " [array([180, 181, 179, ..., 196, 194, 189], dtype=uint8), 1],\n",
       " [array([ 21,  21,  21, ..., 233, 233, 229], dtype=uint8), 1],\n",
       " [array([171, 171, 170, ..., 190, 175, 187], dtype=uint8), 1],\n",
       " [array([ 89, 108, 108, ..., 118, 120, 122], dtype=uint8), 1],\n",
       " [array([214, 191, 218, ..., 204, 203, 204], dtype=uint8), 1],\n",
       " [array([ 54,  54,  58, ..., 187, 189, 195], dtype=uint8), 1],\n",
       " [array([ 59,  50,  45, ..., 164, 167, 168], dtype=uint8), 1],\n",
       " [array([  0,  94,  97, ..., 166, 172, 159], dtype=uint8), 1],\n",
       " [array([ 54, 125, 115, ...,  33,  37,  40], dtype=uint8), 1],\n",
       " [array([ 14,  14,  14, ..., 168, 167, 171], dtype=uint8), 1],\n",
       " [array([134, 131, 133, ...,  39,  31,  34], dtype=uint8), 1],\n",
       " [array([161, 151, 153, ...,  28,  30,  31], dtype=uint8), 1],\n",
       " [array([175, 182, 183, ...,  50,  51,  15], dtype=uint8), 1],\n",
       " [array([171, 180, 204, ..., 116,  97,  98], dtype=uint8), 1],\n",
       " [array([105, 101,  86, ...,  13,  13,  13], dtype=uint8), 1],\n",
       " [array([130, 125, 128, ...,   1,   1,   1], dtype=uint8), 1],\n",
       " [array([115,  83,  64, ..., 100, 102,  96], dtype=uint8), 1],\n",
       " [array([119,  96, 131, ..., 130, 128, 126], dtype=uint8), 1]]"
      ]
     },
     "execution_count": 5,
     "metadata": {},
     "output_type": "execute_result"
    }
   ],
   "source": [
    "#Checking the data, 0 = Electric Fan, 1 = Refrigerator\n",
    "data"
   ]
  },
  {
   "cell_type": "markdown",
   "metadata": {},
   "source": [
    "#### Creating the Pickle File"
   ]
  },
  {
   "cell_type": "code",
   "execution_count": 6,
   "metadata": {},
   "outputs": [],
   "source": [
    "#Setting the pickle file to write mode\n",
    "pick_in = open('Group3_APPLIANCE_DATASET.pickle','wb')\n",
    "#Writting/Adding the data to the pickle file\n",
    "pickle.dump(data,pick_in)\n",
    "pick_in.close()"
   ]
  },
  {
   "cell_type": "code",
   "execution_count": 7,
   "metadata": {},
   "outputs": [],
   "source": [
    "#Reading the pickle file\n",
    "pick_out = open('Group3_APPLIANCE_DATASET.pickle','rb')\n",
    "mydata = pickle.load(pick_out)\n",
    "pick_out.close()"
   ]
  },
  {
   "cell_type": "code",
   "execution_count": 8,
   "metadata": {},
   "outputs": [
    {
     "data": {
      "text/plain": [
       "[[array([255, 255, 255, ..., 255, 255, 255], dtype=uint8), 0],\n",
       " [array([ 58,  69,  65, ..., 102, 102,  95], dtype=uint8), 0],\n",
       " [array([11,  4,  4, ..., 75, 93, 91], dtype=uint8), 0],\n",
       " [array([251, 254, 254, ...,  34,  31,  29], dtype=uint8), 0],\n",
       " [array([255, 255, 255, ..., 255, 255, 255], dtype=uint8), 0],\n",
       " [array([255, 255, 255, ..., 255, 255, 255], dtype=uint8), 0],\n",
       " [array([255, 255, 255, ..., 255, 255, 255], dtype=uint8), 0],\n",
       " [array([130,  99,  45, ..., 114, 113, 113], dtype=uint8), 0],\n",
       " [array([255, 255, 255, ..., 255, 255, 255], dtype=uint8), 0],\n",
       " [array([252, 252, 252, ..., 252, 252, 252], dtype=uint8), 0],\n",
       " [array([ 19,  21,  18, ..., 255, 254, 253], dtype=uint8), 0],\n",
       " [array([110, 110, 114, ..., 169, 178, 173], dtype=uint8), 0],\n",
       " [array([255, 255, 255, ..., 255, 255, 255], dtype=uint8), 0],\n",
       " [array([255, 255, 255, ..., 255, 255, 255], dtype=uint8), 0],\n",
       " [array([255, 255, 255, ..., 255, 255, 255], dtype=uint8), 0],\n",
       " [array([255, 255, 255, ..., 255, 255, 255], dtype=uint8), 0],\n",
       " [array([255, 255, 255, ..., 255, 255, 255], dtype=uint8), 0],\n",
       " [array([255, 255, 255, ..., 255, 255, 255], dtype=uint8), 0],\n",
       " [array([255, 255, 255, ..., 255, 255, 255], dtype=uint8), 0],\n",
       " [array([255, 255, 255, ..., 255, 255, 255], dtype=uint8), 0],\n",
       " [array([255, 255, 255, ..., 255, 255, 255], dtype=uint8), 0],\n",
       " [array([255, 255, 255, ..., 255, 255, 255], dtype=uint8), 0],\n",
       " [array([255, 255, 255, ..., 255, 255, 255], dtype=uint8), 0],\n",
       " [array([255, 255, 255, ..., 255, 255, 255], dtype=uint8), 0],\n",
       " [array([255, 255, 255, ..., 255, 255, 255], dtype=uint8), 0],\n",
       " [array([188, 190, 193, ...,  71,  70,  68], dtype=uint8), 0],\n",
       " [array([255, 255, 255, ..., 255, 255, 255], dtype=uint8), 0],\n",
       " [array([148, 149, 146, ..., 101, 103, 100], dtype=uint8), 0],\n",
       " [array([254, 254, 254, ..., 255, 255, 255], dtype=uint8), 0],\n",
       " [array([255, 255, 255, ..., 255, 255, 255], dtype=uint8), 0],\n",
       " [array([255, 255, 255, ..., 255, 255, 255], dtype=uint8), 0],\n",
       " [array([243, 243, 243, ..., 243, 243, 243], dtype=uint8), 0],\n",
       " [array([255, 255, 255, ..., 255, 255, 255], dtype=uint8), 0],\n",
       " [array([255, 255, 255, ..., 255, 255, 255], dtype=uint8), 0],\n",
       " [array([255, 255, 255, ..., 255, 255, 255], dtype=uint8), 0],\n",
       " [array([254, 254, 255, ..., 255, 255, 255], dtype=uint8), 0],\n",
       " [array([255, 255, 255, ..., 255, 255, 255], dtype=uint8), 0],\n",
       " [array([255, 255, 255, ..., 255, 255, 255], dtype=uint8), 0],\n",
       " [array([255, 255, 255, ..., 255, 255, 255], dtype=uint8), 0],\n",
       " [array([255, 255, 255, ..., 255, 255, 255], dtype=uint8), 0],\n",
       " [array([255, 255, 255, ..., 255, 255, 255], dtype=uint8), 0],\n",
       " [array([255, 255, 255, ..., 255, 255, 255], dtype=uint8), 0],\n",
       " [array([254, 255, 255, ..., 255, 255, 255], dtype=uint8), 0],\n",
       " [array([255, 255, 255, ..., 255, 254, 255], dtype=uint8), 0],\n",
       " [array([191, 168, 156, ..., 124, 121, 119], dtype=uint8), 0],\n",
       " [array([255, 255, 255, ..., 255, 255, 255], dtype=uint8), 0],\n",
       " [array([255, 255, 255, ..., 255, 255, 255], dtype=uint8), 0],\n",
       " [array([255, 255, 255, ..., 255, 255, 255], dtype=uint8), 0],\n",
       " [array([255, 255, 255, ..., 255, 255, 255], dtype=uint8), 0],\n",
       " [array([212, 209, 211, ..., 213, 216, 211], dtype=uint8), 0],\n",
       " [array([255, 255, 255, ..., 255, 255, 255], dtype=uint8), 0],\n",
       " [array([11, 12, 12, ..., 65, 67, 65], dtype=uint8), 0],\n",
       " [array([216, 218, 219, ..., 217, 216, 216], dtype=uint8), 0],\n",
       " [array([255, 255, 254, ..., 255, 254, 255], dtype=uint8), 0],\n",
       " [array([201, 201, 201, ...,  17,  12,  12], dtype=uint8), 0],\n",
       " [array([255, 255, 255, ..., 255, 255, 255], dtype=uint8), 0],\n",
       " [array([255, 255, 255, ..., 255, 255, 255], dtype=uint8), 0],\n",
       " [array([255, 255, 255, ..., 255, 255, 255], dtype=uint8), 0],\n",
       " [array([255, 255, 255, ..., 255, 255, 255], dtype=uint8), 0],\n",
       " [array([208, 208, 208, ..., 205, 203, 202], dtype=uint8), 0],\n",
       " [array([255, 255, 255, ..., 255, 255, 255], dtype=uint8), 0],\n",
       " [array([255, 255, 255, ..., 255, 255, 255], dtype=uint8), 0],\n",
       " [array([255, 255, 255, ..., 255, 255, 255], dtype=uint8), 0],\n",
       " [array([255, 255, 255, ..., 255, 255, 255], dtype=uint8), 0],\n",
       " [array([255, 255, 255, ..., 255, 255, 255], dtype=uint8), 0],\n",
       " [array([255, 255, 255, ..., 255, 255, 255], dtype=uint8), 0],\n",
       " [array([255, 255, 255, ..., 255, 255, 255], dtype=uint8), 0],\n",
       " [array([210, 211, 222, ..., 218, 218, 213], dtype=uint8), 0],\n",
       " [array([255, 255, 255, ..., 255, 255, 255], dtype=uint8), 0],\n",
       " [array([208, 209, 208, ..., 205, 203, 202], dtype=uint8), 0],\n",
       " [array([255, 255, 255, ..., 255, 255, 255], dtype=uint8), 0],\n",
       " [array([255, 255, 255, ..., 255, 255, 255], dtype=uint8), 0],\n",
       " [array([255, 255, 255, ..., 255, 255, 255], dtype=uint8), 0],\n",
       " [array([255, 255, 255, ..., 255, 255, 255], dtype=uint8), 0],\n",
       " [array([255, 255, 255, ..., 255, 255, 255], dtype=uint8), 0],\n",
       " [array([254, 254, 255, ..., 255, 255, 255], dtype=uint8), 0],\n",
       " [array([255, 255, 255, ..., 255, 255, 255], dtype=uint8), 0],\n",
       " [array([255, 255, 255, ..., 255, 255, 255], dtype=uint8), 0],\n",
       " [array([176, 175, 178, ..., 206, 204, 204], dtype=uint8), 0],\n",
       " [array([255, 255, 255, ..., 255, 255, 255], dtype=uint8), 0],\n",
       " [array([254, 254, 255, ..., 255, 255, 255], dtype=uint8), 0],\n",
       " [array([255, 255, 255, ..., 148, 149, 147], dtype=uint8), 0],\n",
       " [array([255, 255, 255, ..., 255, 255, 255], dtype=uint8), 0],\n",
       " [array([255, 255, 255, ..., 255, 255, 255], dtype=uint8), 0],\n",
       " [array([255, 255, 255, ..., 255, 255, 255], dtype=uint8), 0],\n",
       " [array([255, 255, 255, ..., 255, 255, 255], dtype=uint8), 0],\n",
       " [array([255, 255, 255, ..., 255, 255, 255], dtype=uint8), 0],\n",
       " [array([255, 255, 255, ..., 255, 255, 255], dtype=uint8), 0],\n",
       " [array([254, 255, 254, ..., 255, 255, 255], dtype=uint8), 0],\n",
       " [array([140, 200, 219, ..., 247, 247, 247], dtype=uint8), 0],\n",
       " [array([255, 255, 255, ..., 255, 255, 255], dtype=uint8), 0],\n",
       " [array([181, 181, 180, ...,  67,  69,  63], dtype=uint8), 0],\n",
       " [array([255, 255, 255, ..., 255, 255, 255], dtype=uint8), 0],\n",
       " [array([255, 255, 255, ..., 255, 255, 255], dtype=uint8), 0],\n",
       " [array([254, 254, 254, ..., 254, 254, 254], dtype=uint8), 0],\n",
       " [array([255, 255, 255, ..., 255, 255, 255], dtype=uint8), 0],\n",
       " [array([229, 227, 226, ..., 249, 250, 250], dtype=uint8), 0],\n",
       " [array([255, 255, 255, ..., 255, 255, 255], dtype=uint8), 0],\n",
       " [array([ 90,  84, 122, ..., 224, 227, 225], dtype=uint8), 0],\n",
       " [array([254, 254, 254, ..., 255, 255, 255], dtype=uint8), 0],\n",
       " [array([ 21,  21,  21, ..., 120, 119, 113], dtype=uint8), 1],\n",
       " [array([166, 167, 166, ..., 212, 210, 207], dtype=uint8), 1],\n",
       " [array([212, 198, 200, ..., 183, 181,  14], dtype=uint8), 1],\n",
       " [array([170, 170, 175, ..., 100, 112, 122], dtype=uint8), 1],\n",
       " [array([192, 194, 192, ..., 166, 165, 153], dtype=uint8), 1],\n",
       " [array([ 0,  0,  1, ..., 11,  9,  6], dtype=uint8), 1],\n",
       " [array([255, 255, 255, ...,  85,  80,  80], dtype=uint8), 1],\n",
       " [array([ 78,  55,  35, ..., 121, 122,   0], dtype=uint8), 1],\n",
       " [array([  0,   0,  47, ..., 147, 146, 145], dtype=uint8), 1],\n",
       " [array([102, 103, 105, ...,  83,  71,  58], dtype=uint8), 1],\n",
       " [array([ 21,  21,  21, ..., 155, 153, 147], dtype=uint8), 1],\n",
       " [array([164, 128,  84, ...,  45,  36,  20], dtype=uint8), 1],\n",
       " [array([199, 197, 196, ..., 123, 133, 125], dtype=uint8), 1],\n",
       " [array([235, 235, 235, ..., 132, 148, 158], dtype=uint8), 1],\n",
       " [array([25, 54, 51, ..., 69, 71, 69], dtype=uint8), 1],\n",
       " [array([ 97,  89,  93, ..., 164, 154, 170], dtype=uint8), 1],\n",
       " [array([ 66,  63,  64, ..., 108, 107, 109], dtype=uint8), 1],\n",
       " [array([145, 152, 154, ..., 100, 108, 125], dtype=uint8), 1],\n",
       " [array([103, 104, 106, ...,  80,  78,  78], dtype=uint8), 1],\n",
       " [array([21, 21, 21, ..., 38, 40, 38], dtype=uint8), 1],\n",
       " [array([210, 210, 210, ..., 198, 198, 197], dtype=uint8), 1],\n",
       " [array([225, 225, 222, ..., 161, 163, 162], dtype=uint8), 1],\n",
       " [array([ 17,  25,  31, ..., 198,  84,  82], dtype=uint8), 1],\n",
       " [array([162, 162, 163, ..., 159, 139, 146], dtype=uint8), 1],\n",
       " [array([ 22,  22,  22, ..., 146, 152, 160], dtype=uint8), 1],\n",
       " [array([ 54, 162, 162, ..., 166, 151, 142], dtype=uint8), 1],\n",
       " [array([116, 116, 117, ..., 100, 107,  92], dtype=uint8), 1],\n",
       " [array([ 99,  92,  95, ...,  64, 101,  89], dtype=uint8), 1],\n",
       " [array([243, 237, 238, ..., 136, 136, 132], dtype=uint8), 1],\n",
       " [array([210, 210, 211, ..., 241, 245, 246], dtype=uint8), 1],\n",
       " [array([ 31,  36, 129, ...,  49,  54, 118], dtype=uint8), 1],\n",
       " [array([252, 252, 250, ...,  92,  82,  76], dtype=uint8), 1],\n",
       " [array([232, 254, 254, ..., 125,  92,  82], dtype=uint8), 1],\n",
       " [array([135, 223, 222, ..., 150, 144, 156], dtype=uint8), 1],\n",
       " [array([21, 21, 21, ..., 47, 45,  0], dtype=uint8), 1],\n",
       " [array([ 65,  98, 104, ...,  30,  18,   8], dtype=uint8), 1],\n",
       " [array([187, 191, 193, ..., 157, 157, 165], dtype=uint8), 1],\n",
       " [array([126, 121, 133, ...,  56,  57,  58], dtype=uint8), 1],\n",
       " [array([75, 79, 95, ..., 60, 57, 59], dtype=uint8), 1],\n",
       " [array([114, 117, 120, ..., 124, 105,  99], dtype=uint8), 1],\n",
       " [array([192, 189, 184, ..., 153, 155, 152], dtype=uint8), 1],\n",
       " [array([178, 170, 152, ..., 122, 126, 123], dtype=uint8), 1],\n",
       " [array([ 59,  48,  52, ...,  98,  99, 101], dtype=uint8), 1],\n",
       " [array([18, 16, 16, ..., 78, 78, 74], dtype=uint8), 1],\n",
       " [array([197, 194, 176, ..., 213, 211, 209], dtype=uint8), 1],\n",
       " [array([ 43,  45,  47, ..., 102,  99,  99], dtype=uint8), 1],\n",
       " [array([164, 167, 169, ...,  55,  61,  55], dtype=uint8), 1],\n",
       " [array([ 20,  21,  15, ..., 158, 144, 155], dtype=uint8), 1],\n",
       " [array([186, 187, 189, ..., 147, 126, 126], dtype=uint8), 1],\n",
       " [array([143, 172, 179, ..., 154, 160, 189], dtype=uint8), 1],\n",
       " [array([180, 175, 178, ...,  74,  74,  74], dtype=uint8), 1],\n",
       " [array([182, 181, 179, ..., 160, 163, 158], dtype=uint8), 1],\n",
       " [array([206, 232, 239, ..., 176, 171, 179], dtype=uint8), 1],\n",
       " [array([130,  89, 170, ...,  62,  48,  45], dtype=uint8), 1],\n",
       " [array([197, 197, 194, ...,  86,  84,  84], dtype=uint8), 1],\n",
       " [array([145, 178, 144, ..., 113, 105, 104], dtype=uint8), 1],\n",
       " [array([43, 43, 43, ..., 36, 35, 37], dtype=uint8), 1],\n",
       " [array([191, 191, 191, ..., 173, 162, 169], dtype=uint8), 1],\n",
       " [array([88, 83, 43, ..., 97, 93, 88], dtype=uint8), 1],\n",
       " [array([ 19,  31,  15, ..., 175, 178, 187], dtype=uint8), 1],\n",
       " [array([126, 134, 135, ..., 104,  72,  77], dtype=uint8), 1],\n",
       " [array([106,  66,  73, ..., 138, 142, 154], dtype=uint8), 1],\n",
       " [array([156, 149, 220, ...,  78,  83,  92], dtype=uint8), 1],\n",
       " [array([155, 156, 159, ...,  49,  51,  43], dtype=uint8), 1],\n",
       " [array([106, 107, 106, ...,  65,  63, 113], dtype=uint8), 1],\n",
       " [array([190, 186, 188, ...,  90,  92,  77], dtype=uint8), 1],\n",
       " [array([142, 139, 136, ..., 106,  99,  98], dtype=uint8), 1],\n",
       " [array([105, 113, 110, ...,  43,  32,  30], dtype=uint8), 1],\n",
       " [array([ 59,  60,  61, ..., 141, 141, 144], dtype=uint8), 1],\n",
       " [array([160, 160, 157, ...,  56,  76,  88], dtype=uint8), 1],\n",
       " [array([162, 162, 161, ..., 145, 128, 119], dtype=uint8), 1],\n",
       " [array([130, 130, 133, ..., 220, 216, 184], dtype=uint8), 1],\n",
       " [array([ 98, 102,  95, ...,  29,  31,  83], dtype=uint8), 1],\n",
       " [array([152, 164, 175, ..., 142,  85,  58], dtype=uint8), 1],\n",
       " [array([164, 146, 218, ..., 215, 215, 215], dtype=uint8), 1],\n",
       " [array([116, 112, 109, ..., 177, 165,  85], dtype=uint8), 1],\n",
       " [array([150, 142, 150, ...,  50,  66,  55], dtype=uint8), 1],\n",
       " [array([184, 185, 183, ..., 229, 228, 224], dtype=uint8), 1],\n",
       " [array([ 92,  91,  90, ...,  95, 102, 134], dtype=uint8), 1],\n",
       " [array([ 24,  26,  29, ..., 229, 230, 236], dtype=uint8), 1],\n",
       " [array([148, 145, 147, ..., 146, 154, 150], dtype=uint8), 1],\n",
       " [array([250, 245, 242, ..., 110,  63,  55], dtype=uint8), 1],\n",
       " [array([180, 181, 179, ..., 196, 194, 189], dtype=uint8), 1],\n",
       " [array([ 21,  21,  21, ..., 233, 233, 229], dtype=uint8), 1],\n",
       " [array([171, 171, 170, ..., 190, 175, 187], dtype=uint8), 1],\n",
       " [array([ 89, 108, 108, ..., 118, 120, 122], dtype=uint8), 1],\n",
       " [array([214, 191, 218, ..., 204, 203, 204], dtype=uint8), 1],\n",
       " [array([ 54,  54,  58, ..., 187, 189, 195], dtype=uint8), 1],\n",
       " [array([ 59,  50,  45, ..., 164, 167, 168], dtype=uint8), 1],\n",
       " [array([  0,  94,  97, ..., 166, 172, 159], dtype=uint8), 1],\n",
       " [array([ 54, 125, 115, ...,  33,  37,  40], dtype=uint8), 1],\n",
       " [array([ 14,  14,  14, ..., 168, 167, 171], dtype=uint8), 1],\n",
       " [array([134, 131, 133, ...,  39,  31,  34], dtype=uint8), 1],\n",
       " [array([161, 151, 153, ...,  28,  30,  31], dtype=uint8), 1],\n",
       " [array([175, 182, 183, ...,  50,  51,  15], dtype=uint8), 1],\n",
       " [array([171, 180, 204, ..., 116,  97,  98], dtype=uint8), 1],\n",
       " [array([105, 101,  86, ...,  13,  13,  13], dtype=uint8), 1],\n",
       " [array([130, 125, 128, ...,   1,   1,   1], dtype=uint8), 1],\n",
       " [array([115,  83,  64, ..., 100, 102,  96], dtype=uint8), 1],\n",
       " [array([119,  96, 131, ..., 130, 128, 126], dtype=uint8), 1]]"
      ]
     },
     "execution_count": 8,
     "metadata": {},
     "output_type": "execute_result"
    }
   ],
   "source": [
    "#Loading the pickle file\n",
    "mydata"
   ]
  },
  {
   "cell_type": "markdown",
   "metadata": {},
   "source": [
    "#### Extracting the Features and Labels of the Dataset"
   ]
  },
  {
   "cell_type": "code",
   "execution_count": 9,
   "metadata": {},
   "outputs": [],
   "source": [
    "import random\n",
    "\n",
    "random.shuffle(mydata)\n",
    "features = []\n",
    "labels = []\n",
    "\n",
    "for feature, label in mydata:\n",
    "    features.append(feature)\n",
    "    labels.append(label)"
   ]
  },
  {
   "cell_type": "markdown",
   "metadata": {},
   "source": [
    "#### Training the 20% of the Dataset"
   ]
  },
  {
   "cell_type": "code",
   "execution_count": 10,
   "metadata": {},
   "outputs": [
    {
     "data": {
      "text/plain": [
       "SVC(C=1, gamma='auto', kernel='poly')"
      ]
     },
     "execution_count": 10,
     "metadata": {},
     "output_type": "execute_result"
    }
   ],
   "source": [
    "from sklearn.model_selection import train_test_split\n",
    "from sklearn.svm import SVC\n",
    "\n",
    "xtrain, xtest, ytrain, ytest = train_test_split(features,labels,test_size=0.20)\n",
    "model = SVC(C=1, kernel='poly',gamma='auto')\n",
    "model.fit(xtrain,ytrain)"
   ]
  },
  {
   "cell_type": "code",
   "execution_count": 11,
   "metadata": {},
   "outputs": [],
   "source": [
    "#Creating the code for getting the accuracy and prediction of the images\n",
    "categories = ['Electric Fan','Refrigerator']\n",
    "prediction = model.predict(xtest)\n",
    "accuracy = model.score(xtest,ytest)"
   ]
  },
  {
   "cell_type": "markdown",
   "metadata": {},
   "source": [
    "#### Testing Images from the Folder"
   ]
  },
  {
   "cell_type": "code",
   "execution_count": 12,
   "metadata": {},
   "outputs": [
    {
     "name": "stdout",
     "output_type": "stream",
     "text": [
      "The Accuracy of this prediction is:  0.95\n",
      "The Prediction for the image is:  Electric Fan\n"
     ]
    },
    {
     "data": {
      "image/png": "[encoded data removed]",
      "text/plain": [
       "<Figure size 432x288 with 1 Axes>"
      ]
     },
     "metadata": {
      "needs_background": "light"
     },
     "output_type": "display_data"
    }
   ],
   "source": [
    "print('The Accuracy of this prediction is: ',accuracy)\n",
    "print('The Prediction for the image is: ',categories[prediction[5]])\n",
    "\n",
    "appliance = xtest[5].reshape(50,50)\n",
    "plt.imshow(appliance,cmap='gray')\n",
    "plt.show()"
   ]
  },
  {
   "cell_type": "code",
   "execution_count": 13,
   "metadata": {},
   "outputs": [
    {
     "name": "stdout",
     "output_type": "stream",
     "text": [
      "The Accuracy of this prediction is:  0.95\n",
      "The Prediction for the image is:  Refrigerator\n"
     ]
    },
    {
     "data": {
      "image/png": "[encoded data removed]",
      "text/plain": [
       "<Figure size 432x288 with 1 Axes>"
      ]
     },
     "metadata": {
      "needs_background": "light"
     },
     "output_type": "display_data"
    }
   ],
   "source": [
    "print('The Accuracy of this prediction is: ',accuracy)\n",
    "print('The Prediction for the image is: ',categories[prediction[12]])\n",
    "\n",
    "appliance = xtest[12].reshape(50,50)\n",
    "plt.imshow(appliance,cmap='gray')\n",
    "plt.show()"
   ]
  },
  {
   "cell_type": "code",
   "execution_count": 14,
   "metadata": {},
   "outputs": [
    {
     "name": "stdout",
     "output_type": "stream",
     "text": [
      "The Accuracy of this prediction is:  0.95\n",
      "The Prediction for the image is:  Refrigerator\n"
     ]
    },
    {
     "data": {
      "image/png": "[encoded data removed]",
      "text/plain": [
       "<Figure size 432x288 with 1 Axes>"
      ]
     },
     "metadata": {
      "needs_background": "light"
     },
     "output_type": "display_data"
    }
   ],
   "source": [
    "print('The Accuracy of this prediction is: ',accuracy)\n",
    "print('The Prediction for the image is: ',categories[prediction[30]])\n",
    "\n",
    "appliance = xtest[30].reshape(50,50)\n",
    "plt.imshow(appliance,cmap='gray')\n",
    "plt.show()"
   ]
  },
  {
   "cell_type": "code",
   "execution_count": 15,
   "metadata": {},
   "outputs": [
    {
     "data": {
      "text/plain": [
       "40"
      ]
     },
     "execution_count": 15,
     "metadata": {},
     "output_type": "execute_result"
    }
   ],
   "source": [
    "len(prediction)"
   ]
  },
  {
   "cell_type": "markdown",
   "metadata": {},
   "source": [
    "#### Testing New Images"
   ]
  },
  {
   "cell_type": "markdown",
   "metadata": {},
   "source": [
    "##### Test 1"
   ]
  },
  {
   "cell_type": "code",
   "execution_count": 16,
   "metadata": {},
   "outputs": [
    {
     "name": "stdout",
     "output_type": "stream",
     "text": [
      "Prediction is:  Electric Fan\n"
     ]
    },
    {
     "data": {
      "image/png": "[encoded data removed]",
      "text/plain": [
       "<Figure size 432x288 with 1 Axes>"
      ]
     },
     "metadata": {
      "needs_background": "light"
     },
     "output_type": "display_data"
    }
   ],
   "source": [
    "categories = ['Electric Fan','Refrigerator']\n",
    "appliance_img1 = cv2.imread('C:/Users/Russell Caragay/COE 004 - INFERENTIAL THINKING/Midterm Exam/test1.jpg',0)\n",
    "appliance_img1 = cv2.resize(appliance_img1,(50,50))\n",
    "appliance_img1 = np.array(appliance_img1).flatten()\n",
    "appliance_img1 = appliance_img1.reshape(1, -1)\n",
    "pred1 = model.predict(appliance_img1)\n",
    "print('Prediction is: ',categories[pred1[0]])\n",
    "   \n",
    "\n",
    "appliancepred1 = appliance_img1.reshape(50,50)\n",
    "plt.imshow(appliancepred1,cmap='gray')\n",
    "plt.show()"
   ]
  },
  {
   "cell_type": "markdown",
   "metadata": {},
   "source": [
    "##### Test 2"
   ]
  },
  {
   "cell_type": "code",
   "execution_count": 17,
   "metadata": {},
   "outputs": [
    {
     "name": "stdout",
     "output_type": "stream",
     "text": [
      "Prediction is:  Electric Fan\n"
     ]
    },
    {
     "data": {
      "image/png": "[encoded data removed]",
      "text/plain": [
       "<Figure size 432x288 with 1 Axes>"
      ]
     },
     "metadata": {
      "needs_background": "light"
     },
     "output_type": "display_data"
    }
   ],
   "source": [
    "categories = ['Electric Fan','Refrigerator']\n",
    "appliance_img2 = cv2.imread('C:/Users/Russell Caragay/COE 004 - INFERENTIAL THINKING/Midterm Exam/test2.jpg',0)\n",
    "appliance_img2 = cv2.resize(appliance_img2,(50,50))\n",
    "appliance_img2 = np.array(appliance_img2).flatten()\n",
    "appliance_img2 = appliance_img2.reshape(1, -1)\n",
    "pred2 = model.predict(appliance_img2)\n",
    "print('Prediction is: ',categories[pred2[0]])\n",
    "   \n",
    "\n",
    "appliancepred2 = appliance_img2.reshape(50,50)\n",
    "plt.imshow(appliancepred2,cmap='gray')\n",
    "plt.show()"
   ]
  },
  {
   "cell_type": "markdown",
   "metadata": {},
   "source": [
    "##### Test 3"
   ]
  },
  {
   "cell_type": "code",
   "execution_count": 18,
   "metadata": {},
   "outputs": [
    {
     "name": "stdout",
     "output_type": "stream",
     "text": [
      "Prediction is:  Refrigerator\n"
     ]
    },
    {
     "data": {
      "image/png": "[encoded data removed]",
      "text/plain": [
       "<Figure size 432x288 with 1 Axes>"
      ]
     },
     "metadata": {
      "needs_background": "light"
     },
     "output_type": "display_data"
    }
   ],
   "source": [
    "categories = ['Electric Fan','Refrigerator']\n",
    "appliance_img3 = cv2.imread('C:/Users/Russell Caragay/COE 004 - INFERENTIAL THINKING/Midterm Exam/test3.jpg',0)\n",
    "appliance_img3 = cv2.resize(appliance_img3,(50,50))\n",
    "appliance_img3 = np.array(appliance_img3).flatten()\n",
    "appliance_img3 = appliance_img3.reshape(1, -1)\n",
    "pred3 = model.predict(appliance_img3)\n",
    "print('Prediction is: ',categories[pred3[0]])\n",
    "   \n",
    "\n",
    "appliancepred3 = appliance_img3.reshape(50,50)\n",
    "plt.imshow(appliancepred3,cmap='gray')\n",
    "plt.show()"
   ]
  },
  {
   "cell_type": "markdown",
   "metadata": {},
   "source": [
    "##### Test 4"
   ]
  },
  {
   "cell_type": "code",
   "execution_count": 19,
   "metadata": {
    "scrolled": true
   },
   "outputs": [
    {
     "name": "stdout",
     "output_type": "stream",
     "text": [
      "Prediction is:  Refrigerator\n"
     ]
    },
    {
     "data": {
      "image/png": "[encoded data removed]",
      "text/plain": [
       "<Figure size 432x288 with 1 Axes>"
      ]
     },
     "metadata": {
      "needs_background": "light"
     },
     "output_type": "display_data"
    }
   ],
   "source": [
    "categories = ['Electric Fan','Refrigerator']\n",
    "appliance_img4 = cv2.imread('C:/Users/Russell Caragay/COE 004 - INFERENTIAL THINKING/Midterm Exam/test4.jpg',0)\n",
    "appliance_img4 = cv2.resize(appliance_img4,(50,50))\n",
    "appliance_img4 = np.array(appliance_img4).flatten()\n",
    "appliance_img4 = appliance_img4.reshape(1, -1)\n",
    "pred4 = model.predict(appliance_img4)\n",
    "print('Prediction is: ',categories[pred4[0]])\n",
    "   \n",
    "\n",
    "appliancepred4 = appliance_img4.reshape(50,50)\n",
    "plt.imshow(appliancepred4,cmap='gray')\n",
    "plt.show()"
   ]
  },
  {
   "cell_type": "markdown",
   "metadata": {},
   "source": [
    "#### Creating the Model"
   ]
  },
  {
   "cell_type": "code",
   "execution_count": 20,
   "metadata": {},
   "outputs": [],
   "source": [
    "#Creating and setting the model in writing mode\n",
    "pick = open('Group3_Appliances_Model.sav','wb')\n",
    "#Adding the model to the model file\n",
    "pickle.dump(model,pick)\n",
    "pick.close()"
   ]
  },
  {
   "cell_type": "code",
   "execution_count": 21,
   "metadata": {},
   "outputs": [],
   "source": [
    "#Reading the Model\n",
    "pick = open('Group3_Appliances_Model.sav','rb')\n",
    "model = pickle.load(pick)\n",
    "pick.close()"
   ]
  },
  {
   "cell_type": "code",
   "execution_count": null,
   "metadata": {},
   "outputs": [],
   "source": []
  },
  {
   "cell_type": "code",
   "execution_count": null,
   "metadata": {},
   "outputs": [],
   "source": []
  }
 ],
 "metadata": {
  "kernelspec": {
   "display_name": "Python 3 (ipykernel)",
   "language": "python",
   "name": "python3"
  },
  "language_info": {
   "codemirror_mode": {
    "name": "ipython",
    "version": 3
   },
   "file_extension": ".py",
   "mimetype": "text/x-python",
   "name": "python",
   "nbconvert_exporter": "python",
   "pygments_lexer": "ipython3",
   "version": "3.8.12"
  }
 },
 "nbformat": 4,
 "nbformat_minor": 4
}
